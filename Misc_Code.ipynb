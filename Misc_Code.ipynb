{
  "nbformat": 4,
  "nbformat_minor": 0,
  "metadata": {
    "colab": {
      "provenance": [],
      "authorship_tag": "ABX9TyPr2jwXoHQ+KhqmZgeubjUQ",
      "include_colab_link": true
    },
    "kernelspec": {
      "name": "python3",
      "display_name": "Python 3"
    },
    "language_info": {
      "name": "python"
    }
  },
  "cells": [
    {
      "cell_type": "markdown",
      "metadata": {
        "id": "view-in-github",
        "colab_type": "text"
      },
      "source": [
        "<a href=\"https://colab.research.google.com/github/JRAlbanese/Misc-Code/blob/main/Misc_Code.ipynb\" target=\"_parent\"><img src=\"https://colab.research.google.com/assets/colab-badge.svg\" alt=\"Open In Colab\"/></a>"
      ]
    },
    {
      "cell_type": "code",
      "execution_count": 4,
      "metadata": {
        "colab": {
          "base_uri": "https://localhost:8080/",
          "height": 174
        },
        "id": "J4h2MnOpdFS5",
        "outputId": "497bb8f7-0242-47f5-a7d9-59405d087d4c"
      },
      "outputs": [
        {
          "output_type": "stream",
          "name": "stdout",
          "text": [
            "[ 2  3  4  5  6  7  8  9 10 11 12] \n",
            "\n",
            "[-3.         -2.79310345 -2.5862069  -2.37931034 -2.17241379 -1.96551724\n",
            " -1.75862069 -1.55172414 -1.34482759 -1.13793103 -0.93103448 -0.72413793\n",
            " -0.51724138 -0.31034483 -0.10344828  0.10344828  0.31034483  0.51724138\n",
            "  0.72413793  0.93103448  1.13793103  1.34482759  1.55172414  1.75862069\n",
            "  1.96551724  2.17241379  2.37931034  2.5862069   2.79310345  3.        ] \n",
            "\n"
          ]
        },
        {
          "output_type": "execute_result",
          "data": {
            "text/plain": [
              "'\\nnumpy.linspace(start, stop, num=50, endpoint=True, retstep=False, dtype=None, axis=0)[source]\\nReturn evenly spaced numbers over a specified interval.'"
            ],
            "application/vnd.google.colaboratory.intrinsic+json": {
              "type": "string"
            }
          },
          "metadata": {},
          "execution_count": 4
        }
      ],
      "source": [
        "import numpy as np\n",
        "R = np.arange(2,13,1) #creates a vector using spacing (by = 1)\n",
        "print(R, '\\n')\n",
        "\n",
        "\n",
        "grid = np.linspace(-3,3,30) #creates a vector using count (30)\n",
        "print(grid, '\\n')\n",
        "\"\"\"\n",
        "numpy.linspace(start, stop, num=50, endpoint=True, retstep=False, dtype=None, axis=0)[source]\n",
        "Return evenly spaced numbers over a specified interval.\"\"\""
      ]
    }
  ]
}